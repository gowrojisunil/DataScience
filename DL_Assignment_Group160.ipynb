{
  "cells": [
    {
      "cell_type": "markdown",
      "metadata": {
        "id": "9bda93ba"
      },
      "source": [
        "## Group No 160\n",
        "\n",
        "## Group Member Names:\n",
        "1. Suman Sarkar\n",
        "2. Arvind Sriram G\n",
        "3. Sunil Gowroji"
      ],
      "id": "9bda93ba"
    },
    {
      "cell_type": "code",
      "execution_count": 1,
      "metadata": {
        "id": "4b51d895"
      },
      "outputs": [],
      "source": [
        "#Diabetes Dataset -> \"https://www.kaggle.com/datasets/uciml/pima-indians-diabetes-database\"\n",
        "!pip install -U -q PyDrive\n",
        "\n",
        "import numpy as np\n",
        "import pandas as pd\n",
        "import matplotlib.pyplot as plt\n",
        "import seaborn as sns\n",
        "from sklearn.preprocessing import MinMaxScaler\n",
        "from sklearn.model_selection import train_test_split\n",
        "from sklearn.metrics import confusion_matrix,accuracy_score,roc_curve, classification_report\n",
        "%matplotlib inline\n",
        "\n",
        " \n",
        "from pydrive.auth import GoogleAuth\n",
        "from pydrive.drive import GoogleDrive\n",
        "from google.colab import auth\n",
        "from oauth2client.client import GoogleCredentials\n",
        "\n",
        "\n",
        "#keras\n",
        "import tensorflow as tf\n",
        "from tensorflow import keras\n",
        "from tensorflow.keras import models\n",
        "from tensorflow.keras import layers\n"
      ],
      "id": "4b51d895"
    },
    {
      "cell_type": "markdown",
      "metadata": {
        "id": "f5d80c60"
      },
      "source": [
        "# 1. Problem Statement\n",
        " \n",
        "Students are expected to identify a classification / regression problem of your choice. You have to detail the problem under this heading which basically addresses the following questions.\n",
        " \n",
        "   1. What is the problem that you are trying to solve?\n",
        "\n",
        "   2. What kind of prediction (classification / regression) task are you performing?\n",
        "\n",
        "ENSURE THAT YOU ARE USING NUMERICAL / CATEGORICAL DATA only.\n",
        "\n",
        "DO NOT use images or textual data.\n",
        "\n",
        "Score: 1 Mark in total (0.5 mark each)"
      ],
      "id": "f5d80c60"
    },
    {
      "cell_type": "raw",
      "metadata": {
        "id": "3298e121"
      },
      "source": [
        "Answer:\n",
        "\n",
        "1. We are developing a model to predict whether a person is diabetic or not,based on a set of attributes.\n",
        "2. We are performing Classification prediction task."
      ],
      "id": "3298e121"
    },
    {
      "cell_type": "markdown",
      "metadata": {
        "id": "3cc8e0cb"
      },
      "source": [
        "# 2. Data Acquisition\n",
        " \n",
        "For the problem identified by you, students have to find the data source themselves from any data source.\n",
        "\n",
        "## 2.1 Download the data directly\n",
        "\n"
      ],
      "id": "3cc8e0cb"
    },
    {
      "cell_type": "code",
      "source": [
        "# Authenticate and create the PyDrive client.\n",
        "auth.authenticate_user()\n",
        "gauth = GoogleAuth()\n",
        "gauth.credentials = GoogleCredentials.get_application_default()\n",
        "drive = GoogleDrive(gauth)"
      ],
      "metadata": {
        "id": "QIzLRg6DYAxt"
      },
      "id": "QIzLRg6DYAxt",
      "execution_count": 35,
      "outputs": []
    },
    {
      "cell_type": "code",
      "source": [
        "\n",
        "link = 'https://drive.google.com/file/d/1uI8rHIUnuNLr6ekhfwy5xjRju7smhI5E/view?usp=sharing'\n",
        " \n",
        "import pandas as pd\n",
        " \n",
        "# to get the id part of the file\n",
        "id = link.split(\"/\")[-2]\n",
        " \n",
        "downloaded = drive.CreateFile({'id':id})\n",
        "downloaded.GetContentFile('diabetes.csv') \n",
        " \n",
        "diabetes_data = pd.read_csv('diabetes.csv')\n",
        "print(diabetes_data)"
      ],
      "metadata": {
        "colab": {
          "base_uri": "https://localhost:8080/"
        },
        "id": "z9SgEKxeXtPK",
        "outputId": "8390bb1a-99bd-40f0-8d0d-c9e611fa6006"
      },
      "id": "z9SgEKxeXtPK",
      "execution_count": 36,
      "outputs": [
        {
          "output_type": "stream",
          "name": "stdout",
          "text": [
            "     Pregnancies  Glucose  BloodPressure  SkinThickness  Insulin   BMI  \\\n",
            "0              6      148             72             35        0  33.6   \n",
            "1              1       85             66             29        0  26.6   \n",
            "2              8      183             64              0        0  23.3   \n",
            "3              1       89             66             23       94  28.1   \n",
            "4              0      137             40             35      168  43.1   \n",
            "..           ...      ...            ...            ...      ...   ...   \n",
            "763           10      101             76             48      180  32.9   \n",
            "764            2      122             70             27        0  36.8   \n",
            "765            5      121             72             23      112  26.2   \n",
            "766            1      126             60              0        0  30.1   \n",
            "767            1       93             70             31        0  30.4   \n",
            "\n",
            "     DiabetesPedigreeFunction  Age  Outcome  \n",
            "0                       0.627   50        1  \n",
            "1                       0.351   31        0  \n",
            "2                       0.672   32        1  \n",
            "3                       0.167   21        0  \n",
            "4                       2.288   33        1  \n",
            "..                        ...  ...      ...  \n",
            "763                     0.171   63        0  \n",
            "764                     0.340   27        0  \n",
            "765                     0.245   30        0  \n",
            "766                     0.349   47        1  \n",
            "767                     0.315   23        0  \n",
            "\n",
            "[768 rows x 9 columns]\n"
          ]
        }
      ]
    },
    {
      "cell_type": "code",
      "source": [
        "\n",
        "# load dataset -  if the dataset is not directly accessed\n",
        "# diabetes_data_url = 'https://www.kaggle.com/datasets/uciml/pima-indians-diabetes-database'\n",
        "# #diabetes_data = pd.read_csv(diabetes_data_url)\n",
        "# diabetes_data = pd.read_csv('/content/diabetes.csv')\n",
        "\n",
        "diabetes_data.shape"
      ],
      "metadata": {
        "colab": {
          "base_uri": "https://localhost:8080/"
        },
        "id": "guKTajGZrJia",
        "outputId": "bb2763dd-8dcb-4729-d135-2649581f06d1"
      },
      "id": "guKTajGZrJia",
      "execution_count": 21,
      "outputs": [
        {
          "output_type": "execute_result",
          "data": {
            "text/plain": [
              "(768, 9)"
            ]
          },
          "metadata": {},
          "execution_count": 21
        }
      ]
    },
    {
      "cell_type": "markdown",
      "metadata": {
        "id": "49530d0c"
      },
      "source": [
        "## 2.2 Code for converting the above downloaded data into a form suitable for DL "
      ],
      "id": "49530d0c"
    },
    {
      "cell_type": "code",
      "execution_count": 37,
      "metadata": {
        "colab": {
          "base_uri": "https://localhost:8080/",
          "height": 206
        },
        "id": "c1f4c171",
        "outputId": "1b9546f1-4e9c-4dc2-f23f-f493540e3b1e"
      },
      "outputs": [
        {
          "output_type": "execute_result",
          "data": {
            "text/plain": [
              "   Pregnancies  Glucose  BloodPressure  SkinThickness  Insulin   BMI  \\\n",
              "0            6      148             72             35        0  33.6   \n",
              "1            1       85             66             29        0  26.6   \n",
              "2            8      183             64              0        0  23.3   \n",
              "3            1       89             66             23       94  28.1   \n",
              "4            0      137             40             35      168  43.1   \n",
              "\n",
              "   DiabetesPedigreeFunction  Age  Outcome  \n",
              "0                     0.627   50        1  \n",
              "1                     0.351   31        0  \n",
              "2                     0.672   32        1  \n",
              "3                     0.167   21        0  \n",
              "4                     2.288   33        1  "
            ],
            "text/html": [
              "\n",
              "  <div id=\"df-026e42b4-5698-4de2-b580-8c40d299a865\">\n",
              "    <div class=\"colab-df-container\">\n",
              "      <div>\n",
              "<style scoped>\n",
              "    .dataframe tbody tr th:only-of-type {\n",
              "        vertical-align: middle;\n",
              "    }\n",
              "\n",
              "    .dataframe tbody tr th {\n",
              "        vertical-align: top;\n",
              "    }\n",
              "\n",
              "    .dataframe thead th {\n",
              "        text-align: right;\n",
              "    }\n",
              "</style>\n",
              "<table border=\"1\" class=\"dataframe\">\n",
              "  <thead>\n",
              "    <tr style=\"text-align: right;\">\n",
              "      <th></th>\n",
              "      <th>Pregnancies</th>\n",
              "      <th>Glucose</th>\n",
              "      <th>BloodPressure</th>\n",
              "      <th>SkinThickness</th>\n",
              "      <th>Insulin</th>\n",
              "      <th>BMI</th>\n",
              "      <th>DiabetesPedigreeFunction</th>\n",
              "      <th>Age</th>\n",
              "      <th>Outcome</th>\n",
              "    </tr>\n",
              "  </thead>\n",
              "  <tbody>\n",
              "    <tr>\n",
              "      <th>0</th>\n",
              "      <td>6</td>\n",
              "      <td>148</td>\n",
              "      <td>72</td>\n",
              "      <td>35</td>\n",
              "      <td>0</td>\n",
              "      <td>33.6</td>\n",
              "      <td>0.627</td>\n",
              "      <td>50</td>\n",
              "      <td>1</td>\n",
              "    </tr>\n",
              "    <tr>\n",
              "      <th>1</th>\n",
              "      <td>1</td>\n",
              "      <td>85</td>\n",
              "      <td>66</td>\n",
              "      <td>29</td>\n",
              "      <td>0</td>\n",
              "      <td>26.6</td>\n",
              "      <td>0.351</td>\n",
              "      <td>31</td>\n",
              "      <td>0</td>\n",
              "    </tr>\n",
              "    <tr>\n",
              "      <th>2</th>\n",
              "      <td>8</td>\n",
              "      <td>183</td>\n",
              "      <td>64</td>\n",
              "      <td>0</td>\n",
              "      <td>0</td>\n",
              "      <td>23.3</td>\n",
              "      <td>0.672</td>\n",
              "      <td>32</td>\n",
              "      <td>1</td>\n",
              "    </tr>\n",
              "    <tr>\n",
              "      <th>3</th>\n",
              "      <td>1</td>\n",
              "      <td>89</td>\n",
              "      <td>66</td>\n",
              "      <td>23</td>\n",
              "      <td>94</td>\n",
              "      <td>28.1</td>\n",
              "      <td>0.167</td>\n",
              "      <td>21</td>\n",
              "      <td>0</td>\n",
              "    </tr>\n",
              "    <tr>\n",
              "      <th>4</th>\n",
              "      <td>0</td>\n",
              "      <td>137</td>\n",
              "      <td>40</td>\n",
              "      <td>35</td>\n",
              "      <td>168</td>\n",
              "      <td>43.1</td>\n",
              "      <td>2.288</td>\n",
              "      <td>33</td>\n",
              "      <td>1</td>\n",
              "    </tr>\n",
              "  </tbody>\n",
              "</table>\n",
              "</div>\n",
              "      <button class=\"colab-df-convert\" onclick=\"convertToInteractive('df-026e42b4-5698-4de2-b580-8c40d299a865')\"\n",
              "              title=\"Convert this dataframe to an interactive table.\"\n",
              "              style=\"display:none;\">\n",
              "        \n",
              "  <svg xmlns=\"http://www.w3.org/2000/svg\" height=\"24px\"viewBox=\"0 0 24 24\"\n",
              "       width=\"24px\">\n",
              "    <path d=\"M0 0h24v24H0V0z\" fill=\"none\"/>\n",
              "    <path d=\"M18.56 5.44l.94 2.06.94-2.06 2.06-.94-2.06-.94-.94-2.06-.94 2.06-2.06.94zm-11 1L8.5 8.5l.94-2.06 2.06-.94-2.06-.94L8.5 2.5l-.94 2.06-2.06.94zm10 10l.94 2.06.94-2.06 2.06-.94-2.06-.94-.94-2.06-.94 2.06-2.06.94z\"/><path d=\"M17.41 7.96l-1.37-1.37c-.4-.4-.92-.59-1.43-.59-.52 0-1.04.2-1.43.59L10.3 9.45l-7.72 7.72c-.78.78-.78 2.05 0 2.83L4 21.41c.39.39.9.59 1.41.59.51 0 1.02-.2 1.41-.59l7.78-7.78 2.81-2.81c.8-.78.8-2.07 0-2.86zM5.41 20L4 18.59l7.72-7.72 1.47 1.35L5.41 20z\"/>\n",
              "  </svg>\n",
              "      </button>\n",
              "      \n",
              "  <style>\n",
              "    .colab-df-container {\n",
              "      display:flex;\n",
              "      flex-wrap:wrap;\n",
              "      gap: 12px;\n",
              "    }\n",
              "\n",
              "    .colab-df-convert {\n",
              "      background-color: #E8F0FE;\n",
              "      border: none;\n",
              "      border-radius: 50%;\n",
              "      cursor: pointer;\n",
              "      display: none;\n",
              "      fill: #1967D2;\n",
              "      height: 32px;\n",
              "      padding: 0 0 0 0;\n",
              "      width: 32px;\n",
              "    }\n",
              "\n",
              "    .colab-df-convert:hover {\n",
              "      background-color: #E2EBFA;\n",
              "      box-shadow: 0px 1px 2px rgba(60, 64, 67, 0.3), 0px 1px 3px 1px rgba(60, 64, 67, 0.15);\n",
              "      fill: #174EA6;\n",
              "    }\n",
              "\n",
              "    [theme=dark] .colab-df-convert {\n",
              "      background-color: #3B4455;\n",
              "      fill: #D2E3FC;\n",
              "    }\n",
              "\n",
              "    [theme=dark] .colab-df-convert:hover {\n",
              "      background-color: #434B5C;\n",
              "      box-shadow: 0px 1px 3px 1px rgba(0, 0, 0, 0.15);\n",
              "      filter: drop-shadow(0px 1px 2px rgba(0, 0, 0, 0.3));\n",
              "      fill: #FFFFFF;\n",
              "    }\n",
              "  </style>\n",
              "\n",
              "      <script>\n",
              "        const buttonEl =\n",
              "          document.querySelector('#df-026e42b4-5698-4de2-b580-8c40d299a865 button.colab-df-convert');\n",
              "        buttonEl.style.display =\n",
              "          google.colab.kernel.accessAllowed ? 'block' : 'none';\n",
              "\n",
              "        async function convertToInteractive(key) {\n",
              "          const element = document.querySelector('#df-026e42b4-5698-4de2-b580-8c40d299a865');\n",
              "          const dataTable =\n",
              "            await google.colab.kernel.invokeFunction('convertToInteractive',\n",
              "                                                     [key], {});\n",
              "          if (!dataTable) return;\n",
              "\n",
              "          const docLinkHtml = 'Like what you see? Visit the ' +\n",
              "            '<a target=\"_blank\" href=https://colab.research.google.com/notebooks/data_table.ipynb>data table notebook</a>'\n",
              "            + ' to learn more about interactive tables.';\n",
              "          element.innerHTML = '';\n",
              "          dataTable['output_type'] = 'display_data';\n",
              "          await google.colab.output.renderOutput(dataTable, element);\n",
              "          const docLink = document.createElement('div');\n",
              "          docLink.innerHTML = docLinkHtml;\n",
              "          element.appendChild(docLink);\n",
              "        }\n",
              "      </script>\n",
              "    </div>\n",
              "  </div>\n",
              "  "
            ]
          },
          "metadata": {},
          "execution_count": 37
        }
      ],
      "source": [
        "##---------Type the code below this line------------------##\n",
        "diabetes_data.head(5)"
      ],
      "id": "c1f4c171"
    },
    {
      "cell_type": "code",
      "execution_count": 38,
      "metadata": {
        "colab": {
          "base_uri": "https://localhost:8080/"
        },
        "id": "1-AqACSxQ2WS",
        "outputId": "9b58e041-b98d-4e4e-9711-ba63ca405618"
      },
      "outputs": [
        {
          "output_type": "stream",
          "name": "stdout",
          "text": [
            "Pregnancies                   int64\n",
            "Glucose                       int64\n",
            "BloodPressure                 int64\n",
            "SkinThickness                 int64\n",
            "Insulin                       int64\n",
            "BMI                         float64\n",
            "DiabetesPedigreeFunction    float64\n",
            "Age                           int64\n",
            "Outcome                       int64\n",
            "dtype: object\n"
          ]
        }
      ],
      "source": [
        "print(diabetes_data.dtypes)"
      ],
      "id": "1-AqACSxQ2WS"
    },
    {
      "cell_type": "code",
      "source": [
        "#convert code to float datatype to make the attribute data for DL\n",
        "diabetes_data = diabetes_data.astype('float64')\n",
        "print(diabetes_data.dtypes)"
      ],
      "metadata": {
        "colab": {
          "base_uri": "https://localhost:8080/"
        },
        "id": "6TFltCKLrkgD",
        "outputId": "3e07f877-ac1b-4a9f-9d97-d781ff27cf69"
      },
      "id": "6TFltCKLrkgD",
      "execution_count": 39,
      "outputs": [
        {
          "output_type": "stream",
          "name": "stdout",
          "text": [
            "Pregnancies                 float64\n",
            "Glucose                     float64\n",
            "BloodPressure               float64\n",
            "SkinThickness               float64\n",
            "Insulin                     float64\n",
            "BMI                         float64\n",
            "DiabetesPedigreeFunction    float64\n",
            "Age                         float64\n",
            "Outcome                     float64\n",
            "dtype: object\n"
          ]
        }
      ]
    },
    {
      "cell_type": "markdown",
      "metadata": {
        "id": "812edb18"
      },
      "source": [
        "## 2.3 Write your observations from the above. \n",
        "\n",
        "1. Size of the dataset\n",
        "2. What type of data attributes are there?\n",
        "\n",
        "Score: 2 Mark"
      ],
      "id": "812edb18"
    },
    {
      "cell_type": "raw",
      "metadata": {
        "id": "60d80d2f"
      },
      "source": [
        "--------------Type the answers below this line--------------"
      ],
      "id": "60d80d2f"
    },
    {
      "cell_type": "markdown",
      "metadata": {
        "id": "bBPoPlHYQBOF"
      },
      "source": [
        "1. There are 768 records.\n",
        "2. The dataset contains the following attributes:\n",
        "   Pregnancies,\n",
        "   Glucose,\n",
        "   BloodPressure,\n",
        "   SkinThickness,\n",
        "   Insulin,\n",
        "   BMI,\n",
        "   DiabetesPedigreeFunction,\n",
        "   Age\n",
        "\n",
        "   Target Variable:\n",
        "   Outcome\n"
      ],
      "id": "bBPoPlHYQBOF"
    },
    {
      "cell_type": "markdown",
      "metadata": {
        "id": "102e0e36"
      },
      "source": [
        "# 3. Data Preparation\n",
        "\n",
        "Perform the data prepracessing that is required for the data that you have downloaded. \n"
      ],
      "id": "102e0e36"
    },
    {
      "cell_type": "markdown",
      "metadata": {
        "id": "06fdebf8"
      },
      "source": [
        "## 3.1 Apply techiniques\n",
        "* to remove duplicate data\n",
        "* to impute or remove missing data\n",
        "* to remove data inconsistencies\n",
        "\n",
        "IF ANY"
      ],
      "id": "06fdebf8"
    },
    {
      "cell_type": "code",
      "execution_count": 40,
      "metadata": {
        "colab": {
          "base_uri": "https://localhost:8080/"
        },
        "id": "dd3118eb",
        "outputId": "a565d071-f1a3-406f-86f3-4a289f664c2d"
      },
      "outputs": [
        {
          "output_type": "execute_result",
          "data": {
            "text/plain": [
              "False"
            ]
          },
          "metadata": {},
          "execution_count": 40
        }
      ],
      "source": [
        "##---------Type the code below this line------------------##\n",
        "## Removing the null data if there is any\n",
        "diabetes_data.isnull().values.any()"
      ],
      "id": "dd3118eb"
    },
    {
      "cell_type": "code",
      "execution_count": 41,
      "metadata": {
        "colab": {
          "base_uri": "https://localhost:8080/",
          "height": 300
        },
        "id": "wRWM-rvgPD6f",
        "outputId": "f4677ab7-1c52-4508-d404-05ddb537d99b"
      },
      "outputs": [
        {
          "output_type": "execute_result",
          "data": {
            "text/plain": [
              "       Pregnancies     Glucose  BloodPressure  SkinThickness     Insulin  \\\n",
              "count   768.000000  768.000000     768.000000     768.000000  768.000000   \n",
              "mean      3.845052  120.894531      69.105469      20.536458   79.799479   \n",
              "std       3.369578   31.972618      19.355807      15.952218  115.244002   \n",
              "min       0.000000    0.000000       0.000000       0.000000    0.000000   \n",
              "25%       1.000000   99.000000      62.000000       0.000000    0.000000   \n",
              "50%       3.000000  117.000000      72.000000      23.000000   30.500000   \n",
              "75%       6.000000  140.250000      80.000000      32.000000  127.250000   \n",
              "max      17.000000  199.000000     122.000000      99.000000  846.000000   \n",
              "\n",
              "              BMI  DiabetesPedigreeFunction         Age     Outcome  \n",
              "count  768.000000                768.000000  768.000000  768.000000  \n",
              "mean    31.992578                  0.471876   33.240885    0.348958  \n",
              "std      7.884160                  0.331329   11.760232    0.476951  \n",
              "min      0.000000                  0.078000   21.000000    0.000000  \n",
              "25%     27.300000                  0.243750   24.000000    0.000000  \n",
              "50%     32.000000                  0.372500   29.000000    0.000000  \n",
              "75%     36.600000                  0.626250   41.000000    1.000000  \n",
              "max     67.100000                  2.420000   81.000000    1.000000  "
            ],
            "text/html": [
              "\n",
              "  <div id=\"df-1ec49ca9-fbd5-4d26-93cb-fcc59bab0a2f\">\n",
              "    <div class=\"colab-df-container\">\n",
              "      <div>\n",
              "<style scoped>\n",
              "    .dataframe tbody tr th:only-of-type {\n",
              "        vertical-align: middle;\n",
              "    }\n",
              "\n",
              "    .dataframe tbody tr th {\n",
              "        vertical-align: top;\n",
              "    }\n",
              "\n",
              "    .dataframe thead th {\n",
              "        text-align: right;\n",
              "    }\n",
              "</style>\n",
              "<table border=\"1\" class=\"dataframe\">\n",
              "  <thead>\n",
              "    <tr style=\"text-align: right;\">\n",
              "      <th></th>\n",
              "      <th>Pregnancies</th>\n",
              "      <th>Glucose</th>\n",
              "      <th>BloodPressure</th>\n",
              "      <th>SkinThickness</th>\n",
              "      <th>Insulin</th>\n",
              "      <th>BMI</th>\n",
              "      <th>DiabetesPedigreeFunction</th>\n",
              "      <th>Age</th>\n",
              "      <th>Outcome</th>\n",
              "    </tr>\n",
              "  </thead>\n",
              "  <tbody>\n",
              "    <tr>\n",
              "      <th>count</th>\n",
              "      <td>768.000000</td>\n",
              "      <td>768.000000</td>\n",
              "      <td>768.000000</td>\n",
              "      <td>768.000000</td>\n",
              "      <td>768.000000</td>\n",
              "      <td>768.000000</td>\n",
              "      <td>768.000000</td>\n",
              "      <td>768.000000</td>\n",
              "      <td>768.000000</td>\n",
              "    </tr>\n",
              "    <tr>\n",
              "      <th>mean</th>\n",
              "      <td>3.845052</td>\n",
              "      <td>120.894531</td>\n",
              "      <td>69.105469</td>\n",
              "      <td>20.536458</td>\n",
              "      <td>79.799479</td>\n",
              "      <td>31.992578</td>\n",
              "      <td>0.471876</td>\n",
              "      <td>33.240885</td>\n",
              "      <td>0.348958</td>\n",
              "    </tr>\n",
              "    <tr>\n",
              "      <th>std</th>\n",
              "      <td>3.369578</td>\n",
              "      <td>31.972618</td>\n",
              "      <td>19.355807</td>\n",
              "      <td>15.952218</td>\n",
              "      <td>115.244002</td>\n",
              "      <td>7.884160</td>\n",
              "      <td>0.331329</td>\n",
              "      <td>11.760232</td>\n",
              "      <td>0.476951</td>\n",
              "    </tr>\n",
              "    <tr>\n",
              "      <th>min</th>\n",
              "      <td>0.000000</td>\n",
              "      <td>0.000000</td>\n",
              "      <td>0.000000</td>\n",
              "      <td>0.000000</td>\n",
              "      <td>0.000000</td>\n",
              "      <td>0.000000</td>\n",
              "      <td>0.078000</td>\n",
              "      <td>21.000000</td>\n",
              "      <td>0.000000</td>\n",
              "    </tr>\n",
              "    <tr>\n",
              "      <th>25%</th>\n",
              "      <td>1.000000</td>\n",
              "      <td>99.000000</td>\n",
              "      <td>62.000000</td>\n",
              "      <td>0.000000</td>\n",
              "      <td>0.000000</td>\n",
              "      <td>27.300000</td>\n",
              "      <td>0.243750</td>\n",
              "      <td>24.000000</td>\n",
              "      <td>0.000000</td>\n",
              "    </tr>\n",
              "    <tr>\n",
              "      <th>50%</th>\n",
              "      <td>3.000000</td>\n",
              "      <td>117.000000</td>\n",
              "      <td>72.000000</td>\n",
              "      <td>23.000000</td>\n",
              "      <td>30.500000</td>\n",
              "      <td>32.000000</td>\n",
              "      <td>0.372500</td>\n",
              "      <td>29.000000</td>\n",
              "      <td>0.000000</td>\n",
              "    </tr>\n",
              "    <tr>\n",
              "      <th>75%</th>\n",
              "      <td>6.000000</td>\n",
              "      <td>140.250000</td>\n",
              "      <td>80.000000</td>\n",
              "      <td>32.000000</td>\n",
              "      <td>127.250000</td>\n",
              "      <td>36.600000</td>\n",
              "      <td>0.626250</td>\n",
              "      <td>41.000000</td>\n",
              "      <td>1.000000</td>\n",
              "    </tr>\n",
              "    <tr>\n",
              "      <th>max</th>\n",
              "      <td>17.000000</td>\n",
              "      <td>199.000000</td>\n",
              "      <td>122.000000</td>\n",
              "      <td>99.000000</td>\n",
              "      <td>846.000000</td>\n",
              "      <td>67.100000</td>\n",
              "      <td>2.420000</td>\n",
              "      <td>81.000000</td>\n",
              "      <td>1.000000</td>\n",
              "    </tr>\n",
              "  </tbody>\n",
              "</table>\n",
              "</div>\n",
              "      <button class=\"colab-df-convert\" onclick=\"convertToInteractive('df-1ec49ca9-fbd5-4d26-93cb-fcc59bab0a2f')\"\n",
              "              title=\"Convert this dataframe to an interactive table.\"\n",
              "              style=\"display:none;\">\n",
              "        \n",
              "  <svg xmlns=\"http://www.w3.org/2000/svg\" height=\"24px\"viewBox=\"0 0 24 24\"\n",
              "       width=\"24px\">\n",
              "    <path d=\"M0 0h24v24H0V0z\" fill=\"none\"/>\n",
              "    <path d=\"M18.56 5.44l.94 2.06.94-2.06 2.06-.94-2.06-.94-.94-2.06-.94 2.06-2.06.94zm-11 1L8.5 8.5l.94-2.06 2.06-.94-2.06-.94L8.5 2.5l-.94 2.06-2.06.94zm10 10l.94 2.06.94-2.06 2.06-.94-2.06-.94-.94-2.06-.94 2.06-2.06.94z\"/><path d=\"M17.41 7.96l-1.37-1.37c-.4-.4-.92-.59-1.43-.59-.52 0-1.04.2-1.43.59L10.3 9.45l-7.72 7.72c-.78.78-.78 2.05 0 2.83L4 21.41c.39.39.9.59 1.41.59.51 0 1.02-.2 1.41-.59l7.78-7.78 2.81-2.81c.8-.78.8-2.07 0-2.86zM5.41 20L4 18.59l7.72-7.72 1.47 1.35L5.41 20z\"/>\n",
              "  </svg>\n",
              "      </button>\n",
              "      \n",
              "  <style>\n",
              "    .colab-df-container {\n",
              "      display:flex;\n",
              "      flex-wrap:wrap;\n",
              "      gap: 12px;\n",
              "    }\n",
              "\n",
              "    .colab-df-convert {\n",
              "      background-color: #E8F0FE;\n",
              "      border: none;\n",
              "      border-radius: 50%;\n",
              "      cursor: pointer;\n",
              "      display: none;\n",
              "      fill: #1967D2;\n",
              "      height: 32px;\n",
              "      padding: 0 0 0 0;\n",
              "      width: 32px;\n",
              "    }\n",
              "\n",
              "    .colab-df-convert:hover {\n",
              "      background-color: #E2EBFA;\n",
              "      box-shadow: 0px 1px 2px rgba(60, 64, 67, 0.3), 0px 1px 3px 1px rgba(60, 64, 67, 0.15);\n",
              "      fill: #174EA6;\n",
              "    }\n",
              "\n",
              "    [theme=dark] .colab-df-convert {\n",
              "      background-color: #3B4455;\n",
              "      fill: #D2E3FC;\n",
              "    }\n",
              "\n",
              "    [theme=dark] .colab-df-convert:hover {\n",
              "      background-color: #434B5C;\n",
              "      box-shadow: 0px 1px 3px 1px rgba(0, 0, 0, 0.15);\n",
              "      filter: drop-shadow(0px 1px 2px rgba(0, 0, 0, 0.3));\n",
              "      fill: #FFFFFF;\n",
              "    }\n",
              "  </style>\n",
              "\n",
              "      <script>\n",
              "        const buttonEl =\n",
              "          document.querySelector('#df-1ec49ca9-fbd5-4d26-93cb-fcc59bab0a2f button.colab-df-convert');\n",
              "        buttonEl.style.display =\n",
              "          google.colab.kernel.accessAllowed ? 'block' : 'none';\n",
              "\n",
              "        async function convertToInteractive(key) {\n",
              "          const element = document.querySelector('#df-1ec49ca9-fbd5-4d26-93cb-fcc59bab0a2f');\n",
              "          const dataTable =\n",
              "            await google.colab.kernel.invokeFunction('convertToInteractive',\n",
              "                                                     [key], {});\n",
              "          if (!dataTable) return;\n",
              "\n",
              "          const docLinkHtml = 'Like what you see? Visit the ' +\n",
              "            '<a target=\"_blank\" href=https://colab.research.google.com/notebooks/data_table.ipynb>data table notebook</a>'\n",
              "            + ' to learn more about interactive tables.';\n",
              "          element.innerHTML = '';\n",
              "          dataTable['output_type'] = 'display_data';\n",
              "          await google.colab.output.renderOutput(dataTable, element);\n",
              "          const docLink = document.createElement('div');\n",
              "          docLink.innerHTML = docLinkHtml;\n",
              "          element.appendChild(docLink);\n",
              "        }\n",
              "      </script>\n",
              "    </div>\n",
              "  </div>\n",
              "  "
            ]
          },
          "metadata": {},
          "execution_count": 41
        }
      ],
      "source": [
        "# Drop rows with missing values\n",
        "diabetes_data.dropna(inplace=True)\n",
        "\n",
        "# summarize the number of rows and columns in df\n",
        "diabetes_data.describe()"
      ],
      "id": "wRWM-rvgPD6f"
    },
    {
      "cell_type": "code",
      "execution_count": 42,
      "metadata": {
        "colab": {
          "base_uri": "https://localhost:8080/",
          "height": 1000
        },
        "id": "a3b2cdee",
        "outputId": "22585545-8eca-42ab-8131-f99b17261a8a"
      },
      "outputs": [
        {
          "output_type": "display_data",
          "data": {
            "text/plain": [
              "<Figure size 1440x1440 with 2 Axes>"
            ],
            "image/png": "[encoded data removed]"
          },
          "metadata": {
            "needs_background": "light"
          }
        }
      ],
      "source": [
        "##---------Type the code below this line------------------##\n",
        "corr_matrix = diabetes_data.corr()\n",
        "top_corr_features = corr_matrix.index\n",
        "plt.figure(figsize=(20,20))\n",
        "g=sns.heatmap(corr_matrix,annot=True,cmap=\"RdYlGn\")"
      ],
      "id": "a3b2cdee"
    },
    {
      "cell_type": "code",
      "execution_count": 43,
      "metadata": {
        "colab": {
          "base_uri": "https://localhost:8080/",
          "height": 465
        },
        "id": "62hdCWVrNIPm",
        "outputId": "ce175119-5a77-49ea-d619-c3b3b4a793cc"
      },
      "outputs": [
        {
          "output_type": "stream",
          "name": "stdout",
          "text": [
            "   Label  Count\n",
            "0    0.0    500\n",
            "1    1.0    268\n"
          ]
        },
        {
          "output_type": "display_data",
          "data": {
            "text/plain": [
              "<Figure size 720x504 with 1 Axes>"
            ],
            "image/png": "[encoded data removed]"
          },
          "metadata": {}
        }
      ],
      "source": [
        "# Distribution of Data\n",
        "y=diabetes_data[\"Outcome\"]\n",
        "label, count = np.unique(y, return_counts=True)\n",
        "pie_matrix = pd.DataFrame()\n",
        "pie_matrix['Label'] =label\n",
        "pie_matrix['Count'] =count\n",
        "print(pie_matrix)\n",
        "\n",
        "#Creating the Plot\n",
        "plt.figure(figsize = (10,7))\n",
        "plt.pie(count, labels = label)\n",
        "\n",
        "#Showing the Plot\n",
        "plt.show()"
      ],
      "id": "62hdCWVrNIPm"
    },
    {
      "cell_type": "markdown",
      "metadata": {
        "id": "cb3ca738"
      },
      "source": [
        "## 3.2 Encode categorical data"
      ],
      "id": "cb3ca738"
    },
    {
      "cell_type": "code",
      "execution_count": 44,
      "metadata": {
        "id": "08fc7ffc"
      },
      "outputs": [],
      "source": [
        "##---------Type the code below this line------------------##\n",
        "# Encoding not required as the Categorical field Output is already encoded."
      ],
      "id": "08fc7ffc"
    },
    {
      "cell_type": "markdown",
      "metadata": {
        "id": "d3897985"
      },
      "source": [
        "## 3.3 Normalize the data"
      ],
      "id": "d3897985"
    },
    {
      "cell_type": "code",
      "execution_count": 45,
      "metadata": {
        "id": "c7856104"
      },
      "outputs": [],
      "source": [
        "##---------Type the code below this line------------------##\n",
        "for col in diabetes_data:\n",
        "  scaling = MinMaxScaler()\n",
        "  diabetes_data[col] = scaling.fit_transform(diabetes_data[[col]])\n"
      ],
      "id": "c7856104"
    },
    {
      "cell_type": "code",
      "execution_count": 46,
      "metadata": {
        "colab": {
          "base_uri": "https://localhost:8080/",
          "height": 206
        },
        "id": "OZzz6veqbH2h",
        "outputId": "c6834b5a-8e98-4e5b-a72c-9ab66a2aca70"
      },
      "outputs": [
        {
          "output_type": "execute_result",
          "data": {
            "text/plain": [
              "   Pregnancies   Glucose  BloodPressure  SkinThickness   Insulin       BMI  \\\n",
              "0     0.352941  0.743719       0.590164       0.353535  0.000000  0.500745   \n",
              "1     0.058824  0.427136       0.540984       0.292929  0.000000  0.396423   \n",
              "2     0.470588  0.919598       0.524590       0.000000  0.000000  0.347243   \n",
              "3     0.058824  0.447236       0.540984       0.232323  0.111111  0.418778   \n",
              "4     0.000000  0.688442       0.327869       0.353535  0.198582  0.642325   \n",
              "\n",
              "   DiabetesPedigreeFunction       Age  Outcome  \n",
              "0                  0.234415  0.483333      1.0  \n",
              "1                  0.116567  0.166667      0.0  \n",
              "2                  0.253629  0.183333      1.0  \n",
              "3                  0.038002  0.000000      0.0  \n",
              "4                  0.943638  0.200000      1.0  "
            ],
            "text/html": [
              "\n",
              "  <div id=\"df-4b53e918-4456-4756-ba56-c7058e0ed92c\">\n",
              "    <div class=\"colab-df-container\">\n",
              "      <div>\n",
              "<style scoped>\n",
              "    .dataframe tbody tr th:only-of-type {\n",
              "        vertical-align: middle;\n",
              "    }\n",
              "\n",
              "    .dataframe tbody tr th {\n",
              "        vertical-align: top;\n",
              "    }\n",
              "\n",
              "    .dataframe thead th {\n",
              "        text-align: right;\n",
              "    }\n",
              "</style>\n",
              "<table border=\"1\" class=\"dataframe\">\n",
              "  <thead>\n",
              "    <tr style=\"text-align: right;\">\n",
              "      <th></th>\n",
              "      <th>Pregnancies</th>\n",
              "      <th>Glucose</th>\n",
              "      <th>BloodPressure</th>\n",
              "      <th>SkinThickness</th>\n",
              "      <th>Insulin</th>\n",
              "      <th>BMI</th>\n",
              "      <th>DiabetesPedigreeFunction</th>\n",
              "      <th>Age</th>\n",
              "      <th>Outcome</th>\n",
              "    </tr>\n",
              "  </thead>\n",
              "  <tbody>\n",
              "    <tr>\n",
              "      <th>0</th>\n",
              "      <td>0.352941</td>\n",
              "      <td>0.743719</td>\n",
              "      <td>0.590164</td>\n",
              "      <td>0.353535</td>\n",
              "      <td>0.000000</td>\n",
              "      <td>0.500745</td>\n",
              "      <td>0.234415</td>\n",
              "      <td>0.483333</td>\n",
              "      <td>1.0</td>\n",
              "    </tr>\n",
              "    <tr>\n",
              "      <th>1</th>\n",
              "      <td>0.058824</td>\n",
              "      <td>0.427136</td>\n",
              "      <td>0.540984</td>\n",
              "      <td>0.292929</td>\n",
              "      <td>0.000000</td>\n",
              "      <td>0.396423</td>\n",
              "      <td>0.116567</td>\n",
              "      <td>0.166667</td>\n",
              "      <td>0.0</td>\n",
              "    </tr>\n",
              "    <tr>\n",
              "      <th>2</th>\n",
              "      <td>0.470588</td>\n",
              "      <td>0.919598</td>\n",
              "      <td>0.524590</td>\n",
              "      <td>0.000000</td>\n",
              "      <td>0.000000</td>\n",
              "      <td>0.347243</td>\n",
              "      <td>0.253629</td>\n",
              "      <td>0.183333</td>\n",
              "      <td>1.0</td>\n",
              "    </tr>\n",
              "    <tr>\n",
              "      <th>3</th>\n",
              "      <td>0.058824</td>\n",
              "      <td>0.447236</td>\n",
              "      <td>0.540984</td>\n",
              "      <td>0.232323</td>\n",
              "      <td>0.111111</td>\n",
              "      <td>0.418778</td>\n",
              "      <td>0.038002</td>\n",
              "      <td>0.000000</td>\n",
              "      <td>0.0</td>\n",
              "    </tr>\n",
              "    <tr>\n",
              "      <th>4</th>\n",
              "      <td>0.000000</td>\n",
              "      <td>0.688442</td>\n",
              "      <td>0.327869</td>\n",
              "      <td>0.353535</td>\n",
              "      <td>0.198582</td>\n",
              "      <td>0.642325</td>\n",
              "      <td>0.943638</td>\n",
              "      <td>0.200000</td>\n",
              "      <td>1.0</td>\n",
              "    </tr>\n",
              "  </tbody>\n",
              "</table>\n",
              "</div>\n",
              "      <button class=\"colab-df-convert\" onclick=\"convertToInteractive('df-4b53e918-4456-4756-ba56-c7058e0ed92c')\"\n",
              "              title=\"Convert this dataframe to an interactive table.\"\n",
              "              style=\"display:none;\">\n",
              "        \n",
              "  <svg xmlns=\"http://www.w3.org/2000/svg\" height=\"24px\"viewBox=\"0 0 24 24\"\n",
              "       width=\"24px\">\n",
              "    <path d=\"M0 0h24v24H0V0z\" fill=\"none\"/>\n",
              "    <path d=\"M18.56 5.44l.94 2.06.94-2.06 2.06-.94-2.06-.94-.94-2.06-.94 2.06-2.06.94zm-11 1L8.5 8.5l.94-2.06 2.06-.94-2.06-.94L8.5 2.5l-.94 2.06-2.06.94zm10 10l.94 2.06.94-2.06 2.06-.94-2.06-.94-.94-2.06-.94 2.06-2.06.94z\"/><path d=\"M17.41 7.96l-1.37-1.37c-.4-.4-.92-.59-1.43-.59-.52 0-1.04.2-1.43.59L10.3 9.45l-7.72 7.72c-.78.78-.78 2.05 0 2.83L4 21.41c.39.39.9.59 1.41.59.51 0 1.02-.2 1.41-.59l7.78-7.78 2.81-2.81c.8-.78.8-2.07 0-2.86zM5.41 20L4 18.59l7.72-7.72 1.47 1.35L5.41 20z\"/>\n",
              "  </svg>\n",
              "      </button>\n",
              "      \n",
              "  <style>\n",
              "    .colab-df-container {\n",
              "      display:flex;\n",
              "      flex-wrap:wrap;\n",
              "      gap: 12px;\n",
              "    }\n",
              "\n",
              "    .colab-df-convert {\n",
              "      background-color: #E8F0FE;\n",
              "      border: none;\n",
              "      border-radius: 50%;\n",
              "      cursor: pointer;\n",
              "      display: none;\n",
              "      fill: #1967D2;\n",
              "      height: 32px;\n",
              "      padding: 0 0 0 0;\n",
              "      width: 32px;\n",
              "    }\n",
              "\n",
              "    .colab-df-convert:hover {\n",
              "      background-color: #E2EBFA;\n",
              "      box-shadow: 0px 1px 2px rgba(60, 64, 67, 0.3), 0px 1px 3px 1px rgba(60, 64, 67, 0.15);\n",
              "      fill: #174EA6;\n",
              "    }\n",
              "\n",
              "    [theme=dark] .colab-df-convert {\n",
              "      background-color: #3B4455;\n",
              "      fill: #D2E3FC;\n",
              "    }\n",
              "\n",
              "    [theme=dark] .colab-df-convert:hover {\n",
              "      background-color: #434B5C;\n",
              "      box-shadow: 0px 1px 3px 1px rgba(0, 0, 0, 0.15);\n",
              "      filter: drop-shadow(0px 1px 2px rgba(0, 0, 0, 0.3));\n",
              "      fill: #FFFFFF;\n",
              "    }\n",
              "  </style>\n",
              "\n",
              "      <script>\n",
              "        const buttonEl =\n",
              "          document.querySelector('#df-4b53e918-4456-4756-ba56-c7058e0ed92c button.colab-df-convert');\n",
              "        buttonEl.style.display =\n",
              "          google.colab.kernel.accessAllowed ? 'block' : 'none';\n",
              "\n",
              "        async function convertToInteractive(key) {\n",
              "          const element = document.querySelector('#df-4b53e918-4456-4756-ba56-c7058e0ed92c');\n",
              "          const dataTable =\n",
              "            await google.colab.kernel.invokeFunction('convertToInteractive',\n",
              "                                                     [key], {});\n",
              "          if (!dataTable) return;\n",
              "\n",
              "          const docLinkHtml = 'Like what you see? Visit the ' +\n",
              "            '<a target=\"_blank\" href=https://colab.research.google.com/notebooks/data_table.ipynb>data table notebook</a>'\n",
              "            + ' to learn more about interactive tables.';\n",
              "          element.innerHTML = '';\n",
              "          dataTable['output_type'] = 'display_data';\n",
              "          await google.colab.output.renderOutput(dataTable, element);\n",
              "          const docLink = document.createElement('div');\n",
              "          docLink.innerHTML = docLinkHtml;\n",
              "          element.appendChild(docLink);\n",
              "        }\n",
              "      </script>\n",
              "    </div>\n",
              "  </div>\n",
              "  "
            ]
          },
          "metadata": {},
          "execution_count": 46
        }
      ],
      "source": [
        "diabetes_data.head(5)"
      ],
      "id": "OZzz6veqbH2h"
    },
    {
      "cell_type": "markdown",
      "metadata": {
        "id": "90bc0a45"
      },
      "source": [
        "## 3.4 Feature Engineering \n",
        "\n",
        "if any"
      ],
      "id": "90bc0a45"
    },
    {
      "cell_type": "code",
      "execution_count": null,
      "metadata": {
        "id": "f9412d5c"
      },
      "outputs": [],
      "source": [
        "##---------Type the code below this line------------------##"
      ],
      "id": "f9412d5c"
    },
    {
      "cell_type": "markdown",
      "metadata": {
        "id": "793cd04b"
      },
      "source": [
        "## 3.5 Identify the target variables.\n",
        "\n",
        "* Separate the data front the target such that the dataset is in the form of (X,y) or (Features, Label)\n",
        "\n",
        "* Discretize / Encode the target variable or perform one-hot encoding on the target or any other as and if required.\n",
        "\n"
      ],
      "id": "793cd04b"
    },
    {
      "cell_type": "code",
      "execution_count": 47,
      "metadata": {
        "id": "c9089b57"
      },
      "outputs": [],
      "source": [
        "##---------Type the code below this line------------------##\n",
        "X= diabetes_data.drop(columns= ['Outcome'])\n",
        "y= diabetes_data[\"Outcome\"]"
      ],
      "id": "c9089b57"
    },
    {
      "cell_type": "markdown",
      "metadata": {
        "id": "4cd14601"
      },
      "source": [
        "## 3.6 Split the data into training set and testing set"
      ],
      "id": "4cd14601"
    },
    {
      "cell_type": "code",
      "execution_count": 48,
      "metadata": {
        "id": "1a74cd9c"
      },
      "outputs": [],
      "source": [
        "##---------Type the code below this line------------------##\n",
        "X_train, X_test, y_train, y_test = train_test_split(X,y,test_size=0.30, random_state=42)"
      ],
      "id": "1a74cd9c"
    },
    {
      "cell_type": "markdown",
      "metadata": {
        "id": "e3cec4fc"
      },
      "source": [
        "## 3.7 Report\n",
        "\n",
        "Mention the method adopted  and justify why the method was used\n",
        "* to remove duplicate data, if present \n",
        "* to impute or remove missing data, if present \n",
        "* to remove data inconsistencies, if present \n",
        "* to encode categorical data \n",
        "* the normalization technique used\n",
        "\n",
        "If the any of the above are not present, then also add in the report below.\n",
        "\n",
        "Report the size of the training dataset and testing dataset\n",
        "\n",
        "Score: 3 Marks"
      ],
      "id": "e3cec4fc"
    },
    {
      "cell_type": "markdown",
      "source": [
        "1. There are no duplicates present in the above dataset. \n",
        "2. No missing data or inconsistencies found. We have the code in place so that any record containing null value entries can be removed.\n",
        "3. No encoding is required as the categorical field Outcome is already encoded.\n",
        "4. We used MinMaxScaler for normalization technique to preserves the shape of the original distribution.\n",
        "5. Training and Testing dataset ratio is 70:30\n",
        "6. In addition, we performed pre-processing to check coorelations and distribution of taget categorical field."
      ],
      "metadata": {
        "id": "xxordwqxh3ES"
      },
      "id": "xxordwqxh3ES"
    },
    {
      "cell_type": "markdown",
      "metadata": {
        "id": "187aeb95"
      },
      "source": [
        "##---------Type the answer below this line------------------##"
      ],
      "id": "187aeb95"
    },
    {
      "cell_type": "markdown",
      "metadata": {
        "id": "3ae0b5d2"
      },
      "source": [
        "# 4. Deep Neural Network Architecture\n",
        "\n"
      ],
      "id": "3ae0b5d2"
    },
    {
      "cell_type": "markdown",
      "metadata": {
        "id": "186bf4d7"
      },
      "source": [
        "## 4.1 Design the architecture that you will be using to solve the prediction problem identified.\n",
        "\n",
        "* Add dense layers, specifying the number of units in each layer and the activation function used in the layer."
      ],
      "id": "186bf4d7"
    },
    {
      "cell_type": "code",
      "execution_count": 69,
      "metadata": {
        "id": "868d7b27"
      },
      "outputs": [],
      "source": [
        "##---------Type the code below this line------------------##\n",
        "\n",
        "network = models.Sequential()\n",
        "network.add(layers.Dense(8, activation = 'relu',kernel_initializer='random_normal', input_shape=(8,)))\n",
        "network.add(layers.Dense(4, activation = 'relu',kernel_initializer='random_normal' ))\n",
        "network.add(layers.Dense(1, activation='sigmoid',kernel_initializer='random_normal'))"
      ],
      "id": "868d7b27"
    },
    {
      "cell_type": "markdown",
      "metadata": {
        "id": "575f9e37"
      },
      "source": [
        "## 4.2 Report\n",
        "\n",
        "Report the following and provide justification for the same.\n",
        "\n",
        "* Number of layers\n",
        "* Number of units in each layer \n",
        "* Activation function used in each hidden layer \n",
        "* Activation function used in the output layer\n",
        "* Total number of trainable parameters\n",
        "\n",
        "Score: 4 Marks"
      ],
      "id": "575f9e37"
    },
    {
      "cell_type": "markdown",
      "metadata": {
        "id": "a95a15d8"
      },
      "source": [
        "##---------Type the answer below this line------------------##\n",
        "\n",
        "\n",
        "* Number of layers = 3\n",
        "* Number of units in each layer \n",
        "\n",
        "  1. First layer = 8\n",
        "  2. Second layer = 4\n",
        "  3. Third layer =1\n",
        "\n",
        "* Activation function used in each hidden layer = relu(first and second layer) and sigmoid(third layer)\n",
        "\n",
        "  -> Here 'relu' helps to prevent the exponential growth in the computation required to operate the neural network.\n",
        "\n",
        "* Activation function used in the output layer\n",
        "\n",
        "  -> sigmoid function placed as the last layer of a machine learning model can serve to convert the model's output into a probability score, which can be easier to work with and interpret.\n",
        "\n",
        "* Total number of trainable parameters = 113"
      ],
      "id": "a95a15d8"
    },
    {
      "cell_type": "markdown",
      "metadata": {
        "id": "bdbc82a1"
      },
      "source": [
        "# 5. Training the model\n"
      ],
      "id": "bdbc82a1"
    },
    {
      "cell_type": "markdown",
      "metadata": {
        "id": "ca214eb3"
      },
      "source": [
        "## 5.1 Configure the training\n",
        "\n",
        "Configure  the model for training, by using appropriate optimizers and regularizations\n",
        "\n"
      ],
      "id": "ca214eb3"
    },
    {
      "cell_type": "code",
      "execution_count": 70,
      "metadata": {
        "colab": {
          "base_uri": "https://localhost:8080/"
        },
        "id": "a85e9754",
        "outputId": "618f08a3-b7b7-41a8-abd4-c33806082d40"
      },
      "outputs": [
        {
          "output_type": "stream",
          "name": "stdout",
          "text": [
            "Model: \"sequential_5\"\n",
            "_________________________________________________________________\n",
            " Layer (type)                Output Shape              Param #   \n",
            "=================================================================\n",
            " dense_15 (Dense)            (None, 8)                 72        \n",
            "                                                                 \n",
            " dense_16 (Dense)            (None, 4)                 36        \n",
            "                                                                 \n",
            " dense_17 (Dense)            (None, 1)                 5         \n",
            "                                                                 \n",
            "=================================================================\n",
            "Total params: 113\n",
            "Trainable params: 113\n",
            "Non-trainable params: 0\n",
            "_________________________________________________________________\n"
          ]
        }
      ],
      "source": [
        "##---------Type the code below this line------------------##\n",
        "network.compile(optimizer='adam', loss = 'binary_crossentropy', metrics = ['accuracy'])\n",
        "## network.compile(optimizer='adam', loss = tf.keras.losses.BinaryCrossentropy(from_logits = False) , metrics = ['accuracy'] )\n",
        "network.summary()"
      ],
      "id": "a85e9754"
    },
    {
      "cell_type": "markdown",
      "metadata": {
        "id": "32fd60d8"
      },
      "source": [
        "## 5.2 Train the model"
      ],
      "id": "32fd60d8"
    },
    {
      "cell_type": "code",
      "execution_count": 71,
      "metadata": {
        "colab": {
          "base_uri": "https://localhost:8080/"
        },
        "id": "8efaa227",
        "outputId": "082d3bfd-8e16-4a93-c7ad-e469c21c3a13"
      },
      "outputs": [
        {
          "output_type": "stream",
          "name": "stdout",
          "text": [
            "Epoch 1/150\n",
            "17/17 [==============================] - 1s 12ms/step - loss: 0.6920 - accuracy: 0.6425 - val_loss: 0.6909 - val_accuracy: 0.6537\n",
            "Epoch 2/150\n",
            "17/17 [==============================] - 0s 4ms/step - loss: 0.6897 - accuracy: 0.6499 - val_loss: 0.6884 - val_accuracy: 0.6537\n",
            "Epoch 3/150\n",
            "17/17 [==============================] - 0s 5ms/step - loss: 0.6874 - accuracy: 0.6499 - val_loss: 0.6852 - val_accuracy: 0.6537\n",
            "Epoch 4/150\n",
            "17/17 [==============================] - 0s 4ms/step - loss: 0.6840 - accuracy: 0.6499 - val_loss: 0.6821 - val_accuracy: 0.6537\n",
            "Epoch 5/150\n",
            "17/17 [==============================] - 0s 3ms/step - loss: 0.6805 - accuracy: 0.6499 - val_loss: 0.6780 - val_accuracy: 0.6537\n",
            "Epoch 6/150\n",
            "17/17 [==============================] - 0s 4ms/step - loss: 0.6764 - accuracy: 0.6499 - val_loss: 0.6734 - val_accuracy: 0.6537\n",
            "Epoch 7/150\n",
            "17/17 [==============================] - 0s 4ms/step - loss: 0.6718 - accuracy: 0.6499 - val_loss: 0.6687 - val_accuracy: 0.6537\n",
            "Epoch 8/150\n",
            "17/17 [==============================] - 0s 4ms/step - loss: 0.6679 - accuracy: 0.6499 - val_loss: 0.6635 - val_accuracy: 0.6537\n",
            "Epoch 9/150\n",
            "17/17 [==============================] - 0s 4ms/step - loss: 0.6630 - accuracy: 0.6499 - val_loss: 0.6597 - val_accuracy: 0.6537\n",
            "Epoch 10/150\n",
            "17/17 [==============================] - 0s 4ms/step - loss: 0.6605 - accuracy: 0.6499 - val_loss: 0.6558 - val_accuracy: 0.6537\n",
            "Epoch 11/150\n",
            "17/17 [==============================] - 0s 5ms/step - loss: 0.6570 - accuracy: 0.6499 - val_loss: 0.6540 - val_accuracy: 0.6537\n",
            "Epoch 12/150\n",
            "17/17 [==============================] - 0s 4ms/step - loss: 0.6553 - accuracy: 0.6499 - val_loss: 0.6525 - val_accuracy: 0.6537\n",
            "Epoch 13/150\n",
            "17/17 [==============================] - 0s 4ms/step - loss: 0.6540 - accuracy: 0.6499 - val_loss: 0.6508 - val_accuracy: 0.6537\n",
            "Epoch 14/150\n",
            "17/17 [==============================] - 0s 4ms/step - loss: 0.6524 - accuracy: 0.6499 - val_loss: 0.6496 - val_accuracy: 0.6537\n",
            "Epoch 15/150\n",
            "17/17 [==============================] - 0s 4ms/step - loss: 0.6511 - accuracy: 0.6499 - val_loss: 0.6483 - val_accuracy: 0.6537\n",
            "Epoch 16/150\n",
            "17/17 [==============================] - 0s 4ms/step - loss: 0.6498 - accuracy: 0.6499 - val_loss: 0.6470 - val_accuracy: 0.6537\n",
            "Epoch 17/150\n",
            "17/17 [==============================] - 0s 4ms/step - loss: 0.6489 - accuracy: 0.6499 - val_loss: 0.6460 - val_accuracy: 0.6537\n",
            "Epoch 18/150\n",
            "17/17 [==============================] - 0s 4ms/step - loss: 0.6471 - accuracy: 0.6499 - val_loss: 0.6444 - val_accuracy: 0.6537\n",
            "Epoch 19/150\n",
            "17/17 [==============================] - 0s 3ms/step - loss: 0.6454 - accuracy: 0.6499 - val_loss: 0.6429 - val_accuracy: 0.6537\n",
            "Epoch 20/150\n",
            "17/17 [==============================] - 0s 4ms/step - loss: 0.6439 - accuracy: 0.6499 - val_loss: 0.6413 - val_accuracy: 0.6537\n",
            "Epoch 21/150\n",
            "17/17 [==============================] - 0s 4ms/step - loss: 0.6418 - accuracy: 0.6499 - val_loss: 0.6395 - val_accuracy: 0.6537\n",
            "Epoch 22/150\n",
            "17/17 [==============================] - 0s 4ms/step - loss: 0.6397 - accuracy: 0.6499 - val_loss: 0.6372 - val_accuracy: 0.6537\n",
            "Epoch 23/150\n",
            "17/17 [==============================] - 0s 4ms/step - loss: 0.6372 - accuracy: 0.6499 - val_loss: 0.6349 - val_accuracy: 0.6537\n",
            "Epoch 24/150\n",
            "17/17 [==============================] - 0s 4ms/step - loss: 0.6348 - accuracy: 0.6499 - val_loss: 0.6323 - val_accuracy: 0.6537\n",
            "Epoch 25/150\n",
            "17/17 [==============================] - 0s 4ms/step - loss: 0.6317 - accuracy: 0.6499 - val_loss: 0.6297 - val_accuracy: 0.6537\n",
            "Epoch 26/150\n",
            "17/17 [==============================] - 0s 4ms/step - loss: 0.6282 - accuracy: 0.6499 - val_loss: 0.6261 - val_accuracy: 0.6537\n",
            "Epoch 27/150\n",
            "17/17 [==============================] - 0s 5ms/step - loss: 0.6238 - accuracy: 0.6499 - val_loss: 0.6230 - val_accuracy: 0.6537\n",
            "Epoch 28/150\n",
            "17/17 [==============================] - 0s 4ms/step - loss: 0.6200 - accuracy: 0.6499 - val_loss: 0.6189 - val_accuracy: 0.6537\n",
            "Epoch 29/150\n",
            "17/17 [==============================] - 0s 4ms/step - loss: 0.6156 - accuracy: 0.6499 - val_loss: 0.6156 - val_accuracy: 0.6537\n",
            "Epoch 30/150\n",
            "17/17 [==============================] - 0s 4ms/step - loss: 0.6102 - accuracy: 0.6499 - val_loss: 0.6110 - val_accuracy: 0.6537\n",
            "Epoch 31/150\n",
            "17/17 [==============================] - 0s 4ms/step - loss: 0.6059 - accuracy: 0.6518 - val_loss: 0.6066 - val_accuracy: 0.6580\n",
            "Epoch 32/150\n",
            "17/17 [==============================] - 0s 4ms/step - loss: 0.6003 - accuracy: 0.6648 - val_loss: 0.6026 - val_accuracy: 0.6580\n",
            "Epoch 33/150\n",
            "17/17 [==============================] - 0s 4ms/step - loss: 0.5954 - accuracy: 0.6760 - val_loss: 0.5986 - val_accuracy: 0.6667\n",
            "Epoch 34/150\n",
            "17/17 [==============================] - 0s 4ms/step - loss: 0.5906 - accuracy: 0.6667 - val_loss: 0.5942 - val_accuracy: 0.6623\n",
            "Epoch 35/150\n",
            "17/17 [==============================] - 0s 4ms/step - loss: 0.5852 - accuracy: 0.6704 - val_loss: 0.5903 - val_accuracy: 0.6710\n",
            "Epoch 36/150\n",
            "17/17 [==============================] - 0s 4ms/step - loss: 0.5802 - accuracy: 0.6816 - val_loss: 0.5866 - val_accuracy: 0.6667\n",
            "Epoch 37/150\n",
            "17/17 [==============================] - 0s 4ms/step - loss: 0.5752 - accuracy: 0.6927 - val_loss: 0.5825 - val_accuracy: 0.6623\n",
            "Epoch 38/150\n",
            "17/17 [==============================] - 0s 4ms/step - loss: 0.5706 - accuracy: 0.6983 - val_loss: 0.5792 - val_accuracy: 0.6710\n",
            "Epoch 39/150\n",
            "17/17 [==============================] - 0s 5ms/step - loss: 0.5661 - accuracy: 0.6983 - val_loss: 0.5752 - val_accuracy: 0.6667\n",
            "Epoch 40/150\n",
            "17/17 [==============================] - 0s 4ms/step - loss: 0.5611 - accuracy: 0.6909 - val_loss: 0.5725 - val_accuracy: 0.6926\n",
            "Epoch 41/150\n",
            "17/17 [==============================] - 0s 4ms/step - loss: 0.5572 - accuracy: 0.7095 - val_loss: 0.5697 - val_accuracy: 0.6883\n",
            "Epoch 42/150\n",
            "17/17 [==============================] - 0s 5ms/step - loss: 0.5528 - accuracy: 0.7114 - val_loss: 0.5668 - val_accuracy: 0.6926\n",
            "Epoch 43/150\n",
            "17/17 [==============================] - 0s 4ms/step - loss: 0.5502 - accuracy: 0.7002 - val_loss: 0.5638 - val_accuracy: 0.6883\n",
            "Epoch 44/150\n",
            "17/17 [==============================] - 0s 3ms/step - loss: 0.5456 - accuracy: 0.7095 - val_loss: 0.5622 - val_accuracy: 0.6840\n",
            "Epoch 45/150\n",
            "17/17 [==============================] - 0s 4ms/step - loss: 0.5418 - accuracy: 0.7244 - val_loss: 0.5594 - val_accuracy: 0.6840\n",
            "Epoch 46/150\n",
            "17/17 [==============================] - 0s 4ms/step - loss: 0.5388 - accuracy: 0.7225 - val_loss: 0.5579 - val_accuracy: 0.6797\n",
            "Epoch 47/150\n",
            "17/17 [==============================] - 0s 5ms/step - loss: 0.5361 - accuracy: 0.7151 - val_loss: 0.5553 - val_accuracy: 0.6883\n",
            "Epoch 48/150\n",
            "17/17 [==============================] - 0s 5ms/step - loss: 0.5321 - accuracy: 0.7318 - val_loss: 0.5539 - val_accuracy: 0.6797\n",
            "Epoch 49/150\n",
            "17/17 [==============================] - 0s 5ms/step - loss: 0.5295 - accuracy: 0.7318 - val_loss: 0.5523 - val_accuracy: 0.6753\n",
            "Epoch 50/150\n",
            "17/17 [==============================] - 0s 5ms/step - loss: 0.5271 - accuracy: 0.7318 - val_loss: 0.5503 - val_accuracy: 0.6797\n",
            "Epoch 51/150\n",
            "17/17 [==============================] - 0s 4ms/step - loss: 0.5242 - accuracy: 0.7337 - val_loss: 0.5489 - val_accuracy: 0.6797\n",
            "Epoch 52/150\n",
            "17/17 [==============================] - 0s 4ms/step - loss: 0.5245 - accuracy: 0.7318 - val_loss: 0.5480 - val_accuracy: 0.6797\n",
            "Epoch 53/150\n",
            "17/17 [==============================] - 0s 4ms/step - loss: 0.5193 - accuracy: 0.7393 - val_loss: 0.5464 - val_accuracy: 0.6883\n",
            "Epoch 54/150\n",
            "17/17 [==============================] - 0s 4ms/step - loss: 0.5172 - accuracy: 0.7393 - val_loss: 0.5451 - val_accuracy: 0.6797\n",
            "Epoch 55/150\n",
            "17/17 [==============================] - 0s 4ms/step - loss: 0.5155 - accuracy: 0.7412 - val_loss: 0.5444 - val_accuracy: 0.6797\n",
            "Epoch 56/150\n",
            "17/17 [==============================] - 0s 4ms/step - loss: 0.5127 - accuracy: 0.7393 - val_loss: 0.5429 - val_accuracy: 0.6840\n",
            "Epoch 57/150\n",
            "17/17 [==============================] - 0s 4ms/step - loss: 0.5108 - accuracy: 0.7412 - val_loss: 0.5421 - val_accuracy: 0.6840\n",
            "Epoch 58/150\n",
            "17/17 [==============================] - 0s 5ms/step - loss: 0.5086 - accuracy: 0.7337 - val_loss: 0.5409 - val_accuracy: 0.6840\n",
            "Epoch 59/150\n",
            "17/17 [==============================] - 0s 4ms/step - loss: 0.5078 - accuracy: 0.7430 - val_loss: 0.5401 - val_accuracy: 0.6840\n",
            "Epoch 60/150\n",
            "17/17 [==============================] - 0s 4ms/step - loss: 0.5059 - accuracy: 0.7430 - val_loss: 0.5390 - val_accuracy: 0.6926\n",
            "Epoch 61/150\n",
            "17/17 [==============================] - 0s 4ms/step - loss: 0.5036 - accuracy: 0.7412 - val_loss: 0.5384 - val_accuracy: 0.6926\n",
            "Epoch 62/150\n",
            "17/17 [==============================] - 0s 4ms/step - loss: 0.5020 - accuracy: 0.7412 - val_loss: 0.5377 - val_accuracy: 0.6926\n",
            "Epoch 63/150\n",
            "17/17 [==============================] - 0s 3ms/step - loss: 0.5007 - accuracy: 0.7430 - val_loss: 0.5370 - val_accuracy: 0.7013\n",
            "Epoch 64/150\n",
            "17/17 [==============================] - 0s 4ms/step - loss: 0.4987 - accuracy: 0.7449 - val_loss: 0.5365 - val_accuracy: 0.7056\n",
            "Epoch 65/150\n",
            "17/17 [==============================] - 0s 4ms/step - loss: 0.4972 - accuracy: 0.7467 - val_loss: 0.5356 - val_accuracy: 0.7056\n",
            "Epoch 66/150\n",
            "17/17 [==============================] - 0s 4ms/step - loss: 0.4958 - accuracy: 0.7505 - val_loss: 0.5352 - val_accuracy: 0.7056\n",
            "Epoch 67/150\n",
            "17/17 [==============================] - 0s 4ms/step - loss: 0.4943 - accuracy: 0.7486 - val_loss: 0.5345 - val_accuracy: 0.7056\n",
            "Epoch 68/150\n",
            "17/17 [==============================] - 0s 5ms/step - loss: 0.4935 - accuracy: 0.7579 - val_loss: 0.5338 - val_accuracy: 0.7100\n",
            "Epoch 69/150\n",
            "17/17 [==============================] - 0s 4ms/step - loss: 0.4922 - accuracy: 0.7542 - val_loss: 0.5334 - val_accuracy: 0.7056\n",
            "Epoch 70/150\n",
            "17/17 [==============================] - 0s 4ms/step - loss: 0.4910 - accuracy: 0.7523 - val_loss: 0.5332 - val_accuracy: 0.7056\n",
            "Epoch 71/150\n",
            "17/17 [==============================] - 0s 4ms/step - loss: 0.4894 - accuracy: 0.7598 - val_loss: 0.5322 - val_accuracy: 0.7143\n",
            "Epoch 72/150\n",
            "17/17 [==============================] - 0s 4ms/step - loss: 0.4888 - accuracy: 0.7561 - val_loss: 0.5321 - val_accuracy: 0.7013\n",
            "Epoch 73/150\n",
            "17/17 [==============================] - 0s 4ms/step - loss: 0.4871 - accuracy: 0.7598 - val_loss: 0.5312 - val_accuracy: 0.7143\n",
            "Epoch 74/150\n",
            "17/17 [==============================] - 0s 4ms/step - loss: 0.4865 - accuracy: 0.7598 - val_loss: 0.5306 - val_accuracy: 0.7186\n",
            "Epoch 75/150\n",
            "17/17 [==============================] - 0s 4ms/step - loss: 0.4863 - accuracy: 0.7579 - val_loss: 0.5308 - val_accuracy: 0.7056\n",
            "Epoch 76/150\n",
            "17/17 [==============================] - 0s 4ms/step - loss: 0.4845 - accuracy: 0.7561 - val_loss: 0.5297 - val_accuracy: 0.7186\n",
            "Epoch 77/150\n",
            "17/17 [==============================] - 0s 4ms/step - loss: 0.4840 - accuracy: 0.7654 - val_loss: 0.5297 - val_accuracy: 0.7143\n",
            "Epoch 78/150\n",
            "17/17 [==============================] - 0s 4ms/step - loss: 0.4821 - accuracy: 0.7635 - val_loss: 0.5287 - val_accuracy: 0.7229\n",
            "Epoch 79/150\n",
            "17/17 [==============================] - 0s 4ms/step - loss: 0.4819 - accuracy: 0.7654 - val_loss: 0.5285 - val_accuracy: 0.7186\n",
            "Epoch 80/150\n",
            "17/17 [==============================] - 0s 4ms/step - loss: 0.4803 - accuracy: 0.7635 - val_loss: 0.5283 - val_accuracy: 0.7229\n",
            "Epoch 81/150\n",
            "17/17 [==============================] - 0s 5ms/step - loss: 0.4797 - accuracy: 0.7691 - val_loss: 0.5276 - val_accuracy: 0.7273\n",
            "Epoch 82/150\n",
            "17/17 [==============================] - 0s 4ms/step - loss: 0.4790 - accuracy: 0.7635 - val_loss: 0.5275 - val_accuracy: 0.7273\n",
            "Epoch 83/150\n",
            "17/17 [==============================] - 0s 4ms/step - loss: 0.4777 - accuracy: 0.7598 - val_loss: 0.5271 - val_accuracy: 0.7273\n",
            "Epoch 84/150\n",
            "17/17 [==============================] - 0s 3ms/step - loss: 0.4771 - accuracy: 0.7635 - val_loss: 0.5267 - val_accuracy: 0.7273\n",
            "Epoch 85/150\n",
            "17/17 [==============================] - 0s 7ms/step - loss: 0.4765 - accuracy: 0.7654 - val_loss: 0.5261 - val_accuracy: 0.7316\n",
            "Epoch 86/150\n",
            "17/17 [==============================] - 0s 4ms/step - loss: 0.4756 - accuracy: 0.7654 - val_loss: 0.5264 - val_accuracy: 0.7273\n",
            "Epoch 87/150\n",
            "17/17 [==============================] - 0s 4ms/step - loss: 0.4754 - accuracy: 0.7654 - val_loss: 0.5256 - val_accuracy: 0.7316\n",
            "Epoch 88/150\n",
            "17/17 [==============================] - 0s 4ms/step - loss: 0.4742 - accuracy: 0.7709 - val_loss: 0.5250 - val_accuracy: 0.7273\n",
            "Epoch 89/150\n",
            "17/17 [==============================] - 0s 4ms/step - loss: 0.4738 - accuracy: 0.7616 - val_loss: 0.5263 - val_accuracy: 0.7273\n",
            "Epoch 90/150\n",
            "17/17 [==============================] - 0s 4ms/step - loss: 0.4734 - accuracy: 0.7579 - val_loss: 0.5243 - val_accuracy: 0.7316\n",
            "Epoch 91/150\n",
            "17/17 [==============================] - 0s 4ms/step - loss: 0.4723 - accuracy: 0.7672 - val_loss: 0.5243 - val_accuracy: 0.7316\n",
            "Epoch 92/150\n",
            "17/17 [==============================] - 0s 4ms/step - loss: 0.4715 - accuracy: 0.7635 - val_loss: 0.5229 - val_accuracy: 0.7359\n",
            "Epoch 93/150\n",
            "17/17 [==============================] - 0s 4ms/step - loss: 0.4714 - accuracy: 0.7635 - val_loss: 0.5244 - val_accuracy: 0.7316\n",
            "Epoch 94/150\n",
            "17/17 [==============================] - 0s 4ms/step - loss: 0.4700 - accuracy: 0.7672 - val_loss: 0.5223 - val_accuracy: 0.7273\n",
            "Epoch 95/150\n",
            "17/17 [==============================] - 0s 4ms/step - loss: 0.4691 - accuracy: 0.7728 - val_loss: 0.5218 - val_accuracy: 0.7359\n",
            "Epoch 96/150\n",
            "17/17 [==============================] - 0s 4ms/step - loss: 0.4688 - accuracy: 0.7709 - val_loss: 0.5209 - val_accuracy: 0.7273\n",
            "Epoch 97/150\n",
            "17/17 [==============================] - 0s 4ms/step - loss: 0.4681 - accuracy: 0.7635 - val_loss: 0.5224 - val_accuracy: 0.7273\n",
            "Epoch 98/150\n",
            "17/17 [==============================] - 0s 4ms/step - loss: 0.4676 - accuracy: 0.7691 - val_loss: 0.5203 - val_accuracy: 0.7316\n",
            "Epoch 99/150\n",
            "17/17 [==============================] - 0s 5ms/step - loss: 0.4664 - accuracy: 0.7784 - val_loss: 0.5205 - val_accuracy: 0.7316\n",
            "Epoch 100/150\n",
            "17/17 [==============================] - 0s 4ms/step - loss: 0.4661 - accuracy: 0.7598 - val_loss: 0.5202 - val_accuracy: 0.7316\n",
            "Epoch 101/150\n",
            "17/17 [==============================] - 0s 4ms/step - loss: 0.4668 - accuracy: 0.7747 - val_loss: 0.5186 - val_accuracy: 0.7273\n",
            "Epoch 102/150\n",
            "17/17 [==============================] - 0s 5ms/step - loss: 0.4654 - accuracy: 0.7635 - val_loss: 0.5200 - val_accuracy: 0.7273\n",
            "Epoch 103/150\n",
            "17/17 [==============================] - 0s 4ms/step - loss: 0.4651 - accuracy: 0.7691 - val_loss: 0.5180 - val_accuracy: 0.7359\n",
            "Epoch 104/150\n",
            "17/17 [==============================] - 0s 4ms/step - loss: 0.4645 - accuracy: 0.7635 - val_loss: 0.5185 - val_accuracy: 0.7229\n",
            "Epoch 105/150\n",
            "17/17 [==============================] - 0s 4ms/step - loss: 0.4626 - accuracy: 0.7728 - val_loss: 0.5178 - val_accuracy: 0.7316\n",
            "Epoch 106/150\n",
            "17/17 [==============================] - 0s 4ms/step - loss: 0.4623 - accuracy: 0.7747 - val_loss: 0.5179 - val_accuracy: 0.7316\n",
            "Epoch 107/150\n",
            "17/17 [==============================] - 0s 4ms/step - loss: 0.4623 - accuracy: 0.7747 - val_loss: 0.5169 - val_accuracy: 0.7316\n",
            "Epoch 108/150\n",
            "17/17 [==============================] - 0s 4ms/step - loss: 0.4613 - accuracy: 0.7821 - val_loss: 0.5166 - val_accuracy: 0.7316\n",
            "Epoch 109/150\n",
            "17/17 [==============================] - 0s 4ms/step - loss: 0.4609 - accuracy: 0.7728 - val_loss: 0.5166 - val_accuracy: 0.7316\n",
            "Epoch 110/150\n",
            "17/17 [==============================] - 0s 4ms/step - loss: 0.4602 - accuracy: 0.7728 - val_loss: 0.5155 - val_accuracy: 0.7316\n",
            "Epoch 111/150\n",
            "17/17 [==============================] - 0s 4ms/step - loss: 0.4595 - accuracy: 0.7765 - val_loss: 0.5159 - val_accuracy: 0.7229\n",
            "Epoch 112/150\n",
            "17/17 [==============================] - 0s 4ms/step - loss: 0.4594 - accuracy: 0.7765 - val_loss: 0.5151 - val_accuracy: 0.7229\n",
            "Epoch 113/150\n",
            "17/17 [==============================] - 0s 4ms/step - loss: 0.4594 - accuracy: 0.7691 - val_loss: 0.5148 - val_accuracy: 0.7316\n",
            "Epoch 114/150\n",
            "17/17 [==============================] - 0s 4ms/step - loss: 0.4586 - accuracy: 0.7728 - val_loss: 0.5149 - val_accuracy: 0.7229\n",
            "Epoch 115/150\n",
            "17/17 [==============================] - 0s 4ms/step - loss: 0.4578 - accuracy: 0.7765 - val_loss: 0.5146 - val_accuracy: 0.7316\n",
            "Epoch 116/150\n",
            "17/17 [==============================] - 0s 4ms/step - loss: 0.4571 - accuracy: 0.7784 - val_loss: 0.5146 - val_accuracy: 0.7273\n",
            "Epoch 117/150\n",
            "17/17 [==============================] - 0s 4ms/step - loss: 0.4576 - accuracy: 0.7709 - val_loss: 0.5150 - val_accuracy: 0.7229\n",
            "Epoch 118/150\n",
            "17/17 [==============================] - 0s 4ms/step - loss: 0.4570 - accuracy: 0.7803 - val_loss: 0.5141 - val_accuracy: 0.7316\n",
            "Epoch 119/150\n",
            "17/17 [==============================] - 0s 4ms/step - loss: 0.4562 - accuracy: 0.7691 - val_loss: 0.5136 - val_accuracy: 0.7316\n",
            "Epoch 120/150\n",
            "17/17 [==============================] - 0s 4ms/step - loss: 0.4558 - accuracy: 0.7747 - val_loss: 0.5127 - val_accuracy: 0.7273\n",
            "Epoch 121/150\n",
            "17/17 [==============================] - 0s 4ms/step - loss: 0.4552 - accuracy: 0.7691 - val_loss: 0.5136 - val_accuracy: 0.7273\n",
            "Epoch 122/150\n",
            "17/17 [==============================] - 0s 4ms/step - loss: 0.4548 - accuracy: 0.7709 - val_loss: 0.5131 - val_accuracy: 0.7273\n",
            "Epoch 123/150\n",
            "17/17 [==============================] - 0s 4ms/step - loss: 0.4545 - accuracy: 0.7709 - val_loss: 0.5132 - val_accuracy: 0.7273\n",
            "Epoch 124/150\n",
            "17/17 [==============================] - 0s 4ms/step - loss: 0.4543 - accuracy: 0.7747 - val_loss: 0.5128 - val_accuracy: 0.7316\n",
            "Epoch 125/150\n",
            "17/17 [==============================] - 0s 4ms/step - loss: 0.4535 - accuracy: 0.7784 - val_loss: 0.5123 - val_accuracy: 0.7273\n",
            "Epoch 126/150\n",
            "17/17 [==============================] - 0s 4ms/step - loss: 0.4540 - accuracy: 0.7709 - val_loss: 0.5130 - val_accuracy: 0.7273\n",
            "Epoch 127/150\n",
            "17/17 [==============================] - 0s 5ms/step - loss: 0.4529 - accuracy: 0.7672 - val_loss: 0.5126 - val_accuracy: 0.7403\n",
            "Epoch 128/150\n",
            "17/17 [==============================] - 0s 4ms/step - loss: 0.4535 - accuracy: 0.7709 - val_loss: 0.5122 - val_accuracy: 0.7273\n",
            "Epoch 129/150\n",
            "17/17 [==============================] - 0s 5ms/step - loss: 0.4531 - accuracy: 0.7672 - val_loss: 0.5117 - val_accuracy: 0.7359\n",
            "Epoch 130/150\n",
            "17/17 [==============================] - 0s 4ms/step - loss: 0.4538 - accuracy: 0.7728 - val_loss: 0.5120 - val_accuracy: 0.7273\n",
            "Epoch 131/150\n",
            "17/17 [==============================] - 0s 4ms/step - loss: 0.4525 - accuracy: 0.7784 - val_loss: 0.5120 - val_accuracy: 0.7229\n",
            "Epoch 132/150\n",
            "17/17 [==============================] - 0s 4ms/step - loss: 0.4520 - accuracy: 0.7765 - val_loss: 0.5116 - val_accuracy: 0.7489\n",
            "Epoch 133/150\n",
            "17/17 [==============================] - 0s 4ms/step - loss: 0.4510 - accuracy: 0.7728 - val_loss: 0.5123 - val_accuracy: 0.7229\n",
            "Epoch 134/150\n",
            "17/17 [==============================] - 0s 4ms/step - loss: 0.4509 - accuracy: 0.7691 - val_loss: 0.5118 - val_accuracy: 0.7359\n",
            "Epoch 135/150\n",
            "17/17 [==============================] - 0s 4ms/step - loss: 0.4513 - accuracy: 0.7728 - val_loss: 0.5101 - val_accuracy: 0.7446\n",
            "Epoch 136/150\n",
            "17/17 [==============================] - 0s 4ms/step - loss: 0.4524 - accuracy: 0.7709 - val_loss: 0.5110 - val_accuracy: 0.7403\n",
            "Epoch 137/150\n",
            "17/17 [==============================] - 0s 4ms/step - loss: 0.4504 - accuracy: 0.7728 - val_loss: 0.5108 - val_accuracy: 0.7489\n",
            "Epoch 138/150\n",
            "17/17 [==============================] - 0s 3ms/step - loss: 0.4502 - accuracy: 0.7784 - val_loss: 0.5099 - val_accuracy: 0.7532\n",
            "Epoch 139/150\n",
            "17/17 [==============================] - 0s 4ms/step - loss: 0.4488 - accuracy: 0.7747 - val_loss: 0.5109 - val_accuracy: 0.7403\n",
            "Epoch 140/150\n",
            "17/17 [==============================] - 0s 4ms/step - loss: 0.4491 - accuracy: 0.7728 - val_loss: 0.5101 - val_accuracy: 0.7446\n",
            "Epoch 141/150\n",
            "17/17 [==============================] - 0s 4ms/step - loss: 0.4520 - accuracy: 0.7709 - val_loss: 0.5089 - val_accuracy: 0.7446\n",
            "Epoch 142/150\n",
            "17/17 [==============================] - 0s 5ms/step - loss: 0.4518 - accuracy: 0.7803 - val_loss: 0.5119 - val_accuracy: 0.7359\n",
            "Epoch 143/150\n",
            "17/17 [==============================] - 0s 4ms/step - loss: 0.4492 - accuracy: 0.7691 - val_loss: 0.5069 - val_accuracy: 0.7619\n",
            "Epoch 144/150\n",
            "17/17 [==============================] - 0s 4ms/step - loss: 0.4489 - accuracy: 0.7784 - val_loss: 0.5073 - val_accuracy: 0.7446\n",
            "Epoch 145/150\n",
            "17/17 [==============================] - 0s 4ms/step - loss: 0.4477 - accuracy: 0.7803 - val_loss: 0.5071 - val_accuracy: 0.7489\n",
            "Epoch 146/150\n",
            "17/17 [==============================] - 0s 4ms/step - loss: 0.4468 - accuracy: 0.7784 - val_loss: 0.5070 - val_accuracy: 0.7403\n",
            "Epoch 147/150\n",
            "17/17 [==============================] - 0s 4ms/step - loss: 0.4462 - accuracy: 0.7765 - val_loss: 0.5060 - val_accuracy: 0.7532\n",
            "Epoch 148/150\n",
            "17/17 [==============================] - 0s 4ms/step - loss: 0.4462 - accuracy: 0.7765 - val_loss: 0.5068 - val_accuracy: 0.7403\n",
            "Epoch 149/150\n",
            "17/17 [==============================] - 0s 4ms/step - loss: 0.4460 - accuracy: 0.7765 - val_loss: 0.5051 - val_accuracy: 0.7576\n",
            "Epoch 150/150\n",
            "17/17 [==============================] - 0s 4ms/step - loss: 0.4451 - accuracy: 0.7803 - val_loss: 0.5046 - val_accuracy: 0.7576\n"
          ]
        }
      ],
      "source": [
        "##---------Type the code below this line------------------##\n",
        "history = network.fit(X_train, y_train, validation_data=(X_test, y_test), epochs=150, batch_size=32)\n"
      ],
      "id": "8efaa227"
    },
    {
      "cell_type": "markdown",
      "metadata": {
        "id": "19bd0c56"
      },
      "source": [
        "Justify your choice of optimizers and regulizations used and the hyperparameters tuned\n",
        "\n",
        "Score: 4 Marks"
      ],
      "id": "19bd0c56"
    },
    {
      "cell_type": "markdown",
      "metadata": {
        "id": "70064645"
      },
      "source": [
        "##---------Type the answers below this line------------------##\n",
        "\n",
        " Adam optimization uses estimations of the first and second moments of the gradient to adapt the learning rate for each weight of the neural network. It is used to update network weights iterative based in training data. \n",
        "\n",
        " Not used any regulizations and hyperparameters for tuning. Even after verifying with both the model still gives the similar accuracy and loss for both training and testing datasets.\n",
        "\n",
        "Training Accuracy ~ 78%\n",
        "\n",
        "Validation Accuracy ~ 76% \n",
        "    \n"
      ],
      "id": "70064645"
    },
    {
      "cell_type": "markdown",
      "metadata": {
        "id": "06f1173c"
      },
      "source": [
        "# 6. Test the model\n",
        "\n",
        "Score: 2 Marks"
      ],
      "id": "06f1173c"
    },
    {
      "cell_type": "code",
      "execution_count": 72,
      "metadata": {
        "colab": {
          "base_uri": "https://localhost:8080/"
        },
        "id": "7042235d",
        "outputId": "b60ff3e9-bd78-44ee-db69-c552658b4fde"
      },
      "outputs": [
        {
          "output_type": "stream",
          "name": "stdout",
          "text": [
            "loss: 0.5046051740646362\n",
            "accuracy: 0.7575757503509521\n"
          ]
        }
      ],
      "source": [
        "##---------Type the code below this line------------------##\n",
        "test_loss, test_acc = network.evaluate(X_test, y_test, verbose=0)\n",
        "print(\"loss:\", test_loss)\n",
        "print(\"accuracy:\", test_acc)"
      ],
      "id": "7042235d"
    },
    {
      "cell_type": "markdown",
      "metadata": {
        "id": "eb57940c"
      },
      "source": [
        "## 7. Conclusion \n",
        "\n",
        "Plot the training and validation loss\n",
        "Report the testing accuracy and loss.\n",
        "\n",
        "Report values for preformance study metrics like accuracy, precision, recall, F1 Score.\n",
        "\n",
        "A proper comparision based on different metrics should be done and not just accuracy alone, only then the comparision becomes authentic. You may use Confusion matrix, classification report, MAE etc per the requirement of your application/problem.\n",
        "\n",
        "Score 2 Marks"
      ],
      "id": "eb57940c"
    },
    {
      "cell_type": "code",
      "execution_count": 78,
      "metadata": {
        "colab": {
          "base_uri": "https://localhost:8080/",
          "height": 565
        },
        "id": "9bf06eb1",
        "outputId": "34b11094-9724-4396-fc9c-a8c04dad1996"
      },
      "outputs": [
        {
          "output_type": "stream",
          "name": "stdout",
          "text": [
            "8/8 [==============================] - 0s 2ms/step\n",
            "[[123  28]\n",
            " [ 28  52]]\n"
          ]
        },
        {
          "output_type": "display_data",
          "data": {
            "text/plain": [
              "<Figure size 432x288 with 1 Axes>"
            ],
            "image/png": "[encoded data removed]"
          },
          "metadata": {
            "needs_background": "light"
          }
        },
        {
          "output_type": "stream",
          "name": "stdout",
          "text": [
            "\n",
            "\n",
            " Classification Report: Accuracy, Precision, Recall, and F1 Score:\n",
            "\n",
            "              precision    recall  f1-score   support\n",
            "\n",
            "       False       0.81      0.81      0.81       151\n",
            "        True       0.65      0.65      0.65        80\n",
            "\n",
            "    accuracy                           0.76       231\n",
            "   macro avg       0.73      0.73      0.73       231\n",
            "weighted avg       0.76      0.76      0.76       231\n",
            "\n"
          ]
        }
      ],
      "source": [
        "##---------Type the code below this line------------------##\n",
        "y_pred=network.predict(X_test)\n",
        "y_pred =(y_pred>0.5)\n",
        "conf_matrix = confusion_matrix(y_test, y_pred)\n",
        "print(conf_matrix)\n",
        "\n",
        "axis = sns.heatmap(conf_matrix, annot=True, xticklabels=[\"No Diabetes\",'Diabetes'], yticklabels=['No Diabetes','Diabetes'],\n",
        "                cbar=False,cmap='Blues')\n",
        "axis.set_xlabel('Prediction')\n",
        "axis.set_ylabel('Actual')\n",
        "plt.show()\n",
        "print(\"\\n\\n Classification Report: Accuracy, Precision, Recall, and F1 Score:\\n\")\n",
        "print(classification_report(y_pred,y_test))"
      ],
      "id": "9bf06eb1"
    },
    {
      "cell_type": "code",
      "execution_count": 74,
      "metadata": {
        "colab": {
          "base_uri": "https://localhost:8080/",
          "height": 370
        },
        "id": "TdUXRmO0TkEr",
        "outputId": "0ffbdbdb-d6ec-4b5e-85f9-0835363f18a8"
      },
      "outputs": [
        {
          "output_type": "display_data",
          "data": {
            "text/plain": [
              "<Figure size 432x288 with 1 Axes>"
            ],
            "image/png": "[encoded data removed]"
          },
          "metadata": {
            "needs_background": "light"
          }
        },
        {
          "output_type": "stream",
          "name": "stdout",
          "text": [
            "8/8 [==============================] - 0s 2ms/step\n",
            "[[123  28]\n",
            " [ 28  52]]\n",
            "8/8 [==============================] - 0s 2ms/step - loss: 0.5046 - accuracy: 0.7576\n"
          ]
        },
        {
          "output_type": "execute_result",
          "data": {
            "text/plain": [
              "[0.5046051740646362, 0.7575757503509521]"
            ]
          },
          "metadata": {},
          "execution_count": 74
        }
      ],
      "source": [
        "plt.title('Loss / Mean Squared Error')\n",
        "plt.plot(history.history['loss'], label='train')\n",
        "plt.plot(history.history['val_loss'], label='test')\n",
        "plt.legend()\n",
        "plt.show()\n",
        "\n",
        "# Your input to confusion_matrix must be an array of int not one hot encodings.\n",
        "y_pred = network.predict(X_test)\n",
        "cf_matrix_k = confusion_matrix(y_test, (y_pred>0.5))\n",
        "print(cf_matrix_k)\n",
        "\n",
        "network.evaluate(X_test,y_test)"
      ],
      "id": "TdUXRmO0TkEr"
    },
    {
      "cell_type": "markdown",
      "metadata": {
        "id": "79ed0137"
      },
      "source": [
        "## 8. Solution\n",
        "\n",
        "What is the solution that is proposed to solve the business problem discussed in Section 1. Also share your learnings while working through solving the problem in terms of challenges, observations, decisions made etc.\n",
        "\n",
        "Score 2 Marks"
      ],
      "id": "79ed0137"
    },
    {
      "cell_type": "markdown",
      "source": [
        "In this scenarion, we developed a model to predict whether a person is diabetic or not. We used a publicly available dataset from Kaggle - \"Pima Indian Diabetes Database\". The dataset incluses details of 768 persons. The proposed model performs analysis uisng artificial neural networks for predicting diabetes. There are 8 symptoms or attributes for occurence of diabetes. We received an accuracy of 78%. The accuracy of training set and test is both high. The means the model is right fit.\n",
        "\n",
        "Learnings while working through the challenges:\n",
        "We performed preprocessing of data to ensure accuracy. The data is already numeric however we ensure that all the data are converted to float. MinMaxNormaliztion is performed to normalize the data which is key for ANN. We didnot notice any coorelation of data using correlation analysis. The data of the target valiable is not fully balanced but it is adequate.\n",
        "We tried to use feature engineering by converting the BMI and Insulin attributes into categorical but it did not provided any improvement in the accuracy\n",
        "The mmost critical part is deciding the right combination of layers and neurons. We performed combination of several layers and neurons but the accuracy didnot improved beyond a certain level. We even tried adding few hyperparameters. Here we kept the layers and neurons at the minimum and simplest at which maximum accuracy is achieveed.\n",
        "\n",
        "Provided more time is available, improvement is accuracy can be further improved."
      ],
      "metadata": {
        "id": "YDmsCfPu4UpF"
      },
      "id": "YDmsCfPu4UpF"
    },
    {
      "cell_type": "markdown",
      "metadata": {
        "id": "RcDDQlfbZQ7E"
      },
      "source": [
        "##NOTE\n",
        "All Late Submissions will incur a penalty of -2 marks. So submit your assignments on time.\n",
        "\n",
        "Good Luck"
      ],
      "id": "RcDDQlfbZQ7E"
    }
  ],
  "metadata": {
    "colab": {
      "provenance": []
    },
    "kernelspec": {
      "display_name": "Python 3 (ipykernel)",
      "language": "python",
      "name": "python3"
    },
    "language_info": {
      "codemirror_mode": {
        "name": "ipython",
        "version": 3
      },
      "file_extension": ".py",
      "mimetype": "text/x-python",
      "name": "python",
      "nbconvert_exporter": "python",
      "pygments_lexer": "ipython3",
      "version": "3.8.10"
    }
  },
  "nbformat": 4,
  "nbformat_minor": 5
}